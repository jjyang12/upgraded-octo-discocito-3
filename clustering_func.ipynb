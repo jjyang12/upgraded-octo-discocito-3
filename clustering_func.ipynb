{
 "cells": [
  {
   "cell_type": "code",
   "execution_count": null,
   "metadata": {},
   "outputs": [],
   "source": [
    "class Node:\n",
    "    \"\"\" Describes a node in a graph, and the edges connected\n",
    "        to that node.\"\"\"\n",
    "\n",
    "    def __init__(self, ID, neighbors, dists, descriptor, truth=None, file_path=None):\n",
    "        \"\"\" Parameters\n",
    "            ----------\n",
    "            ID : int\n",
    "                A unique identifier for this node. Should be a\n",
    "                value in [0, N-1], if there are N nodes in total.\n",
    "\n",
    "            neighbors : Sequence[int]\n",
    "                The node-IDs of the neighbors of this node.\n",
    "\n",
    "            descriptor : numpy.ndarray\n",
    "                The (128,) descriptor vector for this node's picture\n",
    "\n",
    "            truth : Optional[str]\n",
    "                If you have truth data, for checking your clustering algorithm,\n",
    "                you can include the label to check your clusters at the end.\n",
    "\n",
    "                If this node corresponds to a picture of Ryan, this truth\n",
    "                value can just be \"Ryan\"\n",
    "\n",
    "            file_path : Optional[str]\n",
    "                The file path of the image corresponding to this node, so\n",
    "                that you can sort the photos after you run your clustering\n",
    "                algorithm\n",
    "\n",
    "            \"\"\"\n",
    "        self.id = ID  # a unique identified for this node - this should never change\n",
    "\n",
    "        # The node's label is initialized with the node's ID value at first,\n",
    "        # this label is then updated during the whispers algorithm\n",
    "        self.label = ID\n",
    "\n",
    "        # (n1_ID, n2_ID, ...)\n",
    "        # The IDs of this nodes neighbors. Empty if no neighbors\n",
    "        self.neighbor_dist = tuple(neighbors)\n",
    "        self.descriptor = descriptor\n",
    "\n",
    "        self.truth = truth\n",
    "        self.file_path = file_path"
   ]
  },
  {
   "cell_type": "code",
   "execution_count": 1,
   "metadata": {},
   "outputs": [],
   "source": [
    "import numpy as np\n",
    "from scipy.spatial.distance import euclidean"
   ]
  },
  {
   "cell_type": "code",
   "execution_count": 44,
   "metadata": {},
   "outputs": [],
   "source": [
    "def populate_graph(image_descr, threshold=.5):\n",
    "    \"\"\"\n",
    "    \n",
    "    Given an array of image descriptors and a threshold that dictates whether two images might even be \n",
    "    connected, returns a populated graph with the structure \n",
    "    \n",
    "    PARAMETERS\n",
    "    ----------\n",
    "    image_descr:   np.ndarray (N,128) descriptors of each of the images\n",
    "    threshold:    int, how to absolutely declare two pictures different\n",
    "    \n",
    "    RETURN\n",
    "    -----\n",
    "    output:   array of tuples (M,) with each tuple containing the clustering of images of the same person\n",
    "    \n",
    "    \"\"\"\n",
    "    \n",
    "    a = list()\n",
    "    for i in range(image_descr.shape[0]):\n",
    "        a.append(list())\n",
    "    for i,im in enumerate(image_descr):\n",
    "        for j,img in enumerate(image_descr):\n",
    "            if i==j:\n",
    "                continue\n",
    "            d = euclidean(img,im)\n",
    "            if d < threshold:\n",
    "                a[i].append(tuple((j,d))) #tuples are (im_id, distance)\n",
    "                a[j].append(tuple((i,d)))\n",
    "    return a\n",
    "    \n"
   ]
  },
  {
   "cell_type": "code",
   "execution_count": 45,
   "metadata": {},
   "outputs": [
    {
     "data": {
      "text/plain": [
       "[[(1, 6.708203932499369),\n",
       "  (2, 3.3166247903554),\n",
       "  (3, 6.0),\n",
       "  (1, 6.708203932499369),\n",
       "  (2, 3.3166247903554),\n",
       "  (3, 6.0)],\n",
       " [(0, 6.708203932499369),\n",
       "  (0, 6.708203932499369),\n",
       "  (2, 4.69041575982343),\n",
       "  (3, 1.0),\n",
       "  (2, 4.69041575982343),\n",
       "  (3, 1.0)],\n",
       " [(0, 3.3166247903554),\n",
       "  (1, 4.69041575982343),\n",
       "  (0, 3.3166247903554),\n",
       "  (1, 4.69041575982343),\n",
       "  (3, 4.358898943540674),\n",
       "  (3, 4.358898943540674)],\n",
       " [(0, 6.0),\n",
       "  (1, 1.0),\n",
       "  (2, 4.358898943540674),\n",
       "  (0, 6.0),\n",
       "  (1, 1.0),\n",
       "  (2, 4.358898943540674)]]"
      ]
     },
     "execution_count": 45,
     "metadata": {},
     "output_type": "execute_result"
    }
   ],
   "source": [
    "im = np.array(((5,4,3),(0,0,1),(2,3,4),(1,0,1)))\n",
    "\n",
    "clustering(im, threshold=10)"
   ]
  },
  {
   "cell_type": "code",
   "execution_count": null,
   "metadata": {},
   "outputs": [],
   "source": []
  }
 ],
 "metadata": {
  "kernelspec": {
   "display_name": "Python [conda env:env2]",
   "language": "python",
   "name": "conda-env-env2-py"
  },
  "language_info": {
   "codemirror_mode": {
    "name": "ipython",
    "version": 3
   },
   "file_extension": ".py",
   "mimetype": "text/x-python",
   "name": "python",
   "nbconvert_exporter": "python",
   "pygments_lexer": "ipython3",
   "version": "3.6.5"
  }
 },
 "nbformat": 4,
 "nbformat_minor": 2
}
