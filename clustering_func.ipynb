{
 "cells": [
  {
   "cell_type": "code",
   "execution_count": 4,
   "metadata": {},
   "outputs": [],
   "source": [
    "from clustering_func import populate_graph\n",
    "import numpy as np"
   ]
  },
  {
   "cell_type": "code",
   "execution_count": 5,
   "metadata": {},
   "outputs": [],
   "source": [
    "im = np.array([[5,4,3],[0,0,1],[2,3,4],[1,0,1]])\n",
    "\n",
    "graph = populate_graph(im, [1, 1, 0, 0], threshold=10)"
   ]
  },
  {
   "cell_type": "code",
   "execution_count": 6,
   "metadata": {},
   "outputs": [
    {
     "data": {
      "text/plain": [
       "([[(1, 6.708203932499369),\n",
       "   (2, 3.3166247903554),\n",
       "   (3, 6.0),\n",
       "   (1, 6.708203932499369),\n",
       "   (2, 3.3166247903554),\n",
       "   (3, 6.0)],\n",
       "  [(0, 6.708203932499369),\n",
       "   (0, 6.708203932499369),\n",
       "   (2, 4.69041575982343),\n",
       "   (3, 1.0),\n",
       "   (2, 4.69041575982343),\n",
       "   (3, 1.0)],\n",
       "  [(0, 3.3166247903554),\n",
       "   (1, 4.69041575982343),\n",
       "   (0, 3.3166247903554),\n",
       "   (1, 4.69041575982343),\n",
       "   (3, 4.358898943540674),\n",
       "   (3, 4.358898943540674)],\n",
       "  [(0, 6.0),\n",
       "   (1, 1.0),\n",
       "   (2, 4.358898943540674),\n",
       "   (0, 6.0),\n",
       "   (1, 1.0),\n",
       "   (2, 4.358898943540674)]],\n",
       " [1, 1, 0, 0],\n",
       " [0, 1, 2, 3])"
      ]
     },
     "execution_count": 6,
     "metadata": {},
     "output_type": "execute_result"
    }
   ],
   "source": [
    "graph"
   ]
  }
 ],
 "metadata": {
  "kernelspec": {
   "display_name": "Python [conda env:BWSI-face]",
   "language": "python",
   "name": "conda-env-BWSI-face-py"
  },
  "language_info": {
   "codemirror_mode": {
    "name": "ipython",
    "version": 3
   },
   "file_extension": ".py",
   "mimetype": "text/x-python",
   "name": "python",
   "nbconvert_exporter": "python",
   "pygments_lexer": "ipython3",
   "version": "3.6.5"
  }
 },
 "nbformat": 4,
 "nbformat_minor": 2
}
