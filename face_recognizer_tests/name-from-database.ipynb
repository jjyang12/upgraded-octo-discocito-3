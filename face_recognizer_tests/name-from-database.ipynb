{
 "cells": [
  {
   "cell_type": "code",
   "execution_count": 5,
   "metadata": {},
   "outputs": [],
   "source": [
    "import numpy as np\n",
    "from scipy.spatial.distance import euclidean"
   ]
  },
  {
   "cell_type": "code",
   "execution_count": 29,
   "metadata": {},
   "outputs": [],
   "source": [
    "def match_descriptor_in_dataface(dataface, descrip_array, threshold=.35):\n",
    "    \n",
    "    \"\"\"\n",
    "    Given dictionary and a list of face descriptors, returns an array with names corresponding with descrip_array input\n",
    "    \n",
    "    PARAMETERS\n",
    "    ----------\n",
    "    dataface:  dictionary with the name as the key, mapping to their face descriptor\n",
    "    descrip_array:  np.array (N,) with the descriptors to be matched\n",
    "    \n",
    "    RETURNS\n",
    "    ------\n",
    "    labels: np.ndarray (N,) with names of people in the image, matching the indexes of the input. \n",
    "        If distance is above threshold, returns -1\"\"\"\n",
    "    \n",
    "    print(descrip_array.shape[0])\n",
    "    labels = [\"\" for x in range(descrip_array.shape[0])]\n",
    "    for i,d in enumerate(descrip_array):\n",
    "        min_dist = 100\n",
    "        face = str(0)\n",
    "        for key in dataface:\n",
    "            #print (dataface[key])\n",
    "            #print(d.shape)\n",
    "            dist = euclidean(dataface[key],d)\n",
    "            if dist < min_dist:\n",
    "                min_dist = dist\n",
    "                labels[i] = key\n",
    "        if min_dist > threshold:\n",
    "            labels[i] = -1\n",
    "              \n",
    "    return labels\n",
    "        "
   ]
  },
  {
   "cell_type": "code",
   "execution_count": 30,
   "metadata": {},
   "outputs": [
    {
     "name": "stdout",
     "output_type": "stream",
     "text": [
      "2\n"
     ]
    },
    {
     "data": {
      "text/plain": [
       "[-1, 'sam']"
      ]
     },
     "execution_count": 30,
     "metadata": {},
     "output_type": "execute_result"
    }
   ],
   "source": [
    "data = {'jenny': (np.array(([1,3,4]))), 'sam': (np.array(([0,1,2])))}\n",
    "arr = np.array([[500,100,3],[0,1,2]])\n",
    "\n",
    "match_descriptor_in_dataface(data, arr)"
   ]
  },
  {
   "cell_type": "code",
   "execution_count": null,
   "metadata": {},
   "outputs": [],
   "source": [
    "\n",
    "    "
   ]
  }
 ],
 "metadata": {
  "kernelspec": {
   "display_name": "Python [conda env:env2]",
   "language": "python",
   "name": "conda-env-env2-py"
  },
  "language_info": {
   "codemirror_mode": {
    "name": "ipython",
    "version": 3
   },
   "file_extension": ".py",
   "mimetype": "text/x-python",
   "name": "python",
   "nbconvert_exporter": "python",
   "pygments_lexer": "ipython3",
   "version": "3.6.5"
  }
 },
 "nbformat": 4,
 "nbformat_minor": 2
}
