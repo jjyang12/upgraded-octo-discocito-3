{
 "cells": [
  {
   "cell_type": "code",
   "execution_count": 11,
   "metadata": {},
   "outputs": [],
   "source": [
    "from load_dataset import load_dataset\n",
    "from clustering_func import populate_graph"
   ]
  },
  {
   "cell_type": "code",
   "execution_count": 12,
   "metadata": {},
   "outputs": [
    {
     "name": "stdout",
     "output_type": "stream",
     "text": [
      "Bad image: data\\ours\\Alexey\\IMG-4933.JPG\n",
      "Bad image: data\\ours\\Alexey\\IMG-4934.JPG\n",
      "Bad image: data\\ours\\Alexey\\IMG-4937.JPG\n",
      "Bad image: data\\ours\\Alexey\\IMG-4939.JPG\n",
      "Bad image: data\\ours\\Alexey\\IMG-4941.JPG\n",
      "Bad image: data\\ours\\Alexey\\IMG-4943.JPG\n",
      "Bad image: data\\ours\\Alexey\\IMG-4944.JPG\n",
      "Bad image: data\\ours\\Alexey\\IMG-4945.JPG\n",
      "Bad image: data\\ours\\Alexey\\IMG-4946.JPG\n",
      "Bad image: data\\ours\\Jenny\\IMG-4921.JPG\n",
      "Bad image: data\\ours\\Sam\\IMG-4947.JPG\n",
      "Bad image: data\\ours\\Sam\\IMG-4948.JPG\n",
      "Bad image: data\\ours\\Sam\\IMG-4949.JPG\n",
      "Bad image: data\\ours\\Sam\\IMG-4950.JPG\n",
      "Bad image: data\\ours\\Sam\\IMG-4951.JPG\n"
     ]
    }
   ],
   "source": [
    "descriptors, truth, names = load_dataset()"
   ]
  },
  {
   "cell_type": "code",
   "execution_count": 14,
   "metadata": {},
   "outputs": [],
   "source": [
    "graph = populate_graph(descriptors, truth)"
   ]
  },
  {
   "cell_type": "code",
   "execution_count": 141,
   "metadata": {},
   "outputs": [],
   "source": [
    "from whispering import whispering"
   ]
  },
  {
   "cell_type": "code",
   "execution_count": 93,
   "metadata": {},
   "outputs": [
    {
     "name": "stdout",
     "output_type": "stream",
     "text": [
      "0\n",
      "Counter({0: 1, 1: 1, 2: 1, 3: 1, 4: 1, 5: 1, 6: 1, 7: 1, 8: 1, 9: 1, 10: 1, 11: 1, 12: 1, 13: 1, 14: 1, 15: 1, 16: 1, 17: 1})\n",
      "0\n",
      "Counter({3: 2, 0: 1, 1: 1, 2: 1, 5: 1, 6: 1, 7: 1, 8: 1, 9: 1, 10: 1, 11: 1, 12: 1, 13: 1, 14: 1, 15: 1, 16: 1, 17: 1})\n",
      "0\n",
      "Counter({3: 2, 10: 2, 0: 1, 1: 1, 2: 1, 5: 1, 6: 1, 7: 1, 8: 1, 9: 1, 11: 1, 12: 1, 13: 1, 14: 1, 15: 1, 17: 1})\n",
      "0\n",
      "Counter({3: 3, 10: 2, 1: 1, 2: 1, 5: 1, 6: 1, 7: 1, 8: 1, 9: 1, 11: 1, 12: 1, 13: 1, 14: 1, 15: 1, 17: 1})\n",
      "0\n",
      "Counter({3: 3, 10: 3, 1: 1, 2: 1, 5: 1, 6: 1, 7: 1, 8: 1, 9: 1, 11: 1, 12: 1, 13: 1, 14: 1, 17: 1})\n",
      "0\n",
      "Counter({3: 4, 10: 3, 2: 1, 5: 1, 6: 1, 7: 1, 8: 1, 9: 1, 11: 1, 12: 1, 13: 1, 14: 1, 17: 1})\n",
      "0\n",
      "Counter({3: 4, 10: 4, 2: 1, 5: 1, 6: 1, 7: 1, 8: 1, 9: 1, 11: 1, 12: 1, 14: 1, 17: 1})\n",
      "0\n",
      "Counter({3: 4, 10: 4, 8: 2, 2: 1, 5: 1, 7: 1, 9: 1, 11: 1, 12: 1, 14: 1, 17: 1})\n",
      "1\n",
      "Counter({3: 4, 10: 4, 8: 2, 2: 1, 5: 1, 7: 1, 9: 1, 11: 1, 12: 1, 14: 1, 17: 1})\n",
      "2\n",
      "Counter({3: 4, 10: 4, 8: 2, 2: 1, 5: 1, 7: 1, 9: 1, 11: 1, 12: 1, 14: 1, 17: 1})\n",
      "3\n",
      "Counter({3: 4, 10: 4, 8: 2, 2: 1, 5: 1, 7: 1, 9: 1, 11: 1, 12: 1, 14: 1, 17: 1})\n",
      "4\n",
      "Counter({3: 4, 10: 4, 8: 2, 2: 1, 5: 1, 7: 1, 9: 1, 11: 1, 12: 1, 14: 1, 17: 1})\n",
      "5\n",
      "Counter({3: 4, 10: 4, 8: 2, 2: 1, 5: 1, 7: 1, 9: 1, 11: 1, 12: 1, 14: 1, 17: 1})\n",
      "0\n",
      "Counter({3: 5, 10: 4, 8: 2, 5: 1, 7: 1, 9: 1, 11: 1, 12: 1, 14: 1, 17: 1})\n",
      "1\n",
      "Counter({3: 5, 10: 4, 8: 2, 5: 1, 7: 1, 9: 1, 11: 1, 12: 1, 14: 1, 17: 1})\n",
      "2\n",
      "Counter({3: 5, 10: 4, 5: 2, 7: 1, 8: 1, 9: 1, 11: 1, 12: 1, 14: 1, 17: 1})\n",
      "3\n",
      "Counter({3: 5, 10: 4, 5: 2, 7: 1, 8: 1, 9: 1, 11: 1, 12: 1, 14: 1, 17: 1})\n",
      "4\n",
      "Counter({3: 5, 10: 4, 5: 2, 7: 1, 8: 1, 9: 1, 11: 1, 12: 1, 14: 1, 17: 1})\n",
      "5\n",
      "Counter({3: 5, 10: 4, 5: 2, 7: 1, 8: 1, 9: 1, 11: 1, 12: 1, 14: 1, 17: 1})\n",
      "6\n",
      "Counter({3: 5, 10: 4, 5: 2, 7: 1, 8: 1, 9: 1, 11: 1, 12: 1, 14: 1, 17: 1})\n",
      "0\n",
      "Counter({3: 5, 10: 5, 5: 2, 7: 1, 8: 1, 9: 1, 12: 1, 14: 1, 17: 1})\n",
      "1\n",
      "Counter({3: 5, 10: 5, 5: 2, 7: 1, 8: 1, 9: 1, 12: 1, 14: 1, 17: 1})\n",
      "0\n",
      "Counter({10: 6, 3: 5, 5: 2, 7: 1, 8: 1, 9: 1, 14: 1, 17: 1})\n",
      "0\n",
      "Counter({10: 7, 3: 5, 5: 2, 7: 1, 8: 1, 14: 1, 17: 1})\n",
      "1\n",
      "Counter({10: 7, 3: 5, 5: 2, 7: 1, 8: 1, 14: 1, 17: 1})\n",
      "2\n",
      "Counter({10: 7, 3: 5, 5: 2, 7: 1, 8: 1, 14: 1, 17: 1})\n",
      "3\n",
      "Counter({10: 7, 3: 5, 5: 2, 7: 1, 8: 1, 14: 1, 17: 1})\n",
      "4\n",
      "Counter({10: 7, 3: 5, 5: 2, 7: 1, 8: 1, 14: 1, 17: 1})\n",
      "0\n",
      "Counter({10: 8, 3: 5, 5: 2, 7: 1, 8: 1, 17: 1})\n",
      "1\n",
      "Counter({10: 8, 3: 5, 5: 2, 7: 1, 8: 1, 17: 1})\n",
      "2\n",
      "Counter({10: 8, 3: 5, 5: 2, 7: 1, 8: 1, 17: 1})\n",
      "3\n",
      "Counter({10: 8, 3: 5, 5: 2, 7: 1, 8: 1, 17: 1})\n",
      "4\n",
      "Counter({10: 8, 3: 5, 5: 2, 7: 1, 8: 1, 17: 1})\n",
      "5\n",
      "Counter({10: 8, 3: 5, 5: 2, 7: 1, 8: 1, 17: 1})\n",
      "6\n",
      "Counter({10: 8, 3: 5, 5: 2, 7: 1, 8: 1, 17: 1})\n",
      "7\n",
      "Counter({10: 8, 3: 5, 5: 2, 7: 1, 8: 1, 17: 1})\n",
      "8\n",
      "Counter({10: 8, 3: 5, 5: 2, 7: 1, 8: 1, 17: 1})\n",
      "9\n",
      "Counter({10: 8, 3: 5, 5: 2, 7: 1, 8: 1, 17: 1})\n",
      "10\n",
      "Counter({10: 8, 3: 5, 5: 2, 7: 1, 8: 1, 17: 1})\n",
      "11\n",
      "Counter({10: 8, 3: 5, 5: 2, 7: 1, 8: 1, 17: 1})\n",
      "12\n",
      "Counter({10: 8, 3: 5, 5: 2, 7: 1, 8: 1, 17: 1})\n",
      "13\n",
      "Counter({10: 8, 3: 5, 5: 2, 7: 1, 8: 1, 17: 1})\n",
      "0\n",
      "Counter({10: 8, 3: 5, 5: 3, 8: 1, 17: 1})\n",
      "1\n",
      "Counter({10: 8, 3: 5, 5: 3, 8: 1, 17: 1})\n",
      "2\n",
      "Counter({10: 8, 3: 5, 5: 3, 8: 1, 17: 1})\n",
      "3\n",
      "Counter({10: 8, 3: 5, 5: 3, 8: 1, 17: 1})\n",
      "4\n",
      "Counter({10: 8, 3: 5, 5: 3, 8: 1, 17: 1})\n",
      "5\n",
      "Counter({10: 8, 3: 5, 5: 3, 8: 1, 17: 1})\n",
      "6\n",
      "Counter({10: 8, 3: 5, 5: 3, 8: 1, 17: 1})\n",
      "7\n",
      "Counter({10: 8, 3: 5, 5: 3, 8: 1, 17: 1})\n",
      "8\n",
      "Counter({10: 8, 3: 5, 5: 3, 8: 1, 17: 1})\n",
      "9\n",
      "Counter({10: 8, 3: 5, 5: 3, 8: 1, 17: 1})\n",
      "10\n",
      "Counter({10: 8, 3: 5, 5: 3, 8: 1, 17: 1})\n",
      "11\n",
      "Counter({10: 8, 3: 5, 5: 3, 8: 1, 17: 1})\n",
      "12\n",
      "Counter({10: 8, 3: 5, 5: 3, 8: 1, 17: 1})\n",
      "13\n",
      "Counter({10: 8, 3: 5, 5: 3, 8: 1, 17: 1})\n",
      "14\n",
      "Counter({10: 8, 3: 5, 5: 3, 8: 1, 17: 1})\n",
      "0\n",
      "Counter({10: 9, 3: 5, 5: 3, 8: 1})\n",
      "1\n",
      "Counter({10: 9, 3: 5, 5: 3, 8: 1})\n",
      "2\n",
      "Counter({10: 9, 3: 5, 5: 3, 8: 1})\n",
      "3\n",
      "Counter({10: 9, 3: 5, 5: 3, 8: 1})\n",
      "4\n",
      "Counter({10: 9, 3: 5, 5: 3, 8: 1})\n",
      "5\n",
      "Counter({10: 9, 3: 5, 5: 3, 8: 1})\n",
      "6\n",
      "Counter({10: 9, 3: 5, 5: 3, 8: 1})\n",
      "7\n",
      "Counter({10: 9, 3: 5, 5: 3, 8: 1})\n",
      "8\n",
      "Counter({10: 9, 3: 5, 5: 3, 8: 1})\n",
      "9\n",
      "Counter({10: 9, 3: 5, 5: 3, 8: 1})\n",
      "10\n",
      "Counter({10: 9, 3: 5, 5: 3, 8: 1})\n",
      "11\n",
      "Counter({10: 9, 3: 5, 5: 3, 8: 1})\n",
      "12\n",
      "Counter({10: 9, 3: 5, 5: 3, 8: 1})\n",
      "13\n",
      "Counter({10: 9, 3: 5, 5: 3, 8: 1})\n",
      "14\n",
      "Counter({10: 9, 3: 5, 5: 3, 8: 1})\n",
      "15\n",
      "Counter({10: 9, 3: 5, 5: 3, 8: 1})\n",
      "16\n",
      "Counter({10: 9, 3: 5, 5: 3, 8: 1})\n",
      "17\n",
      "Counter({10: 9, 3: 5, 5: 3, 8: 1})\n"
     ]
    }
   ],
   "source": [
    "whispering(graph);"
   ]
  },
  {
   "cell_type": "code",
   "execution_count": 142,
   "metadata": {},
   "outputs": [],
   "source": [
    "from whispering import metrics"
   ]
  },
  {
   "cell_type": "code",
   "execution_count": 143,
   "metadata": {},
   "outputs": [
    {
     "data": {
      "text/plain": [
       "(1.0, 1.0)"
      ]
     },
     "execution_count": 143,
     "metadata": {},
     "output_type": "execute_result"
    }
   ],
   "source": [
    "metrics(graph)"
   ]
  },
  {
   "cell_type": "code",
   "execution_count": null,
   "metadata": {},
   "outputs": [],
   "source": []
  }
 ],
 "metadata": {
  "kernelspec": {
   "display_name": "Python [conda env:BWSI-face]",
   "language": "python",
   "name": "conda-env-BWSI-face-py"
  },
  "language_info": {
   "codemirror_mode": {
    "name": "ipython",
    "version": 3
   },
   "file_extension": ".py",
   "mimetype": "text/x-python",
   "name": "python",
   "nbconvert_exporter": "python",
   "pygments_lexer": "ipython3",
   "version": "3.6.5"
  }
 },
 "nbformat": 4,
 "nbformat_minor": 2
}
