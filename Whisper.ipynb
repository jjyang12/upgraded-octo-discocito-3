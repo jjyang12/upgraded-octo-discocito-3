{
 "cells": [
  {
   "cell_type": "code",
   "execution_count": 2,
   "metadata": {},
   "outputs": [
    {
     "ename": "ModuleNotFoundError",
     "evalue": "No module named 'load_dataset'",
     "output_type": "error",
     "traceback": [
      "\u001b[1;31m---------------------------------------------------------------------------\u001b[0m",
      "\u001b[1;31mModuleNotFoundError\u001b[0m                       Traceback (most recent call last)",
      "\u001b[1;32m<ipython-input-2-8f3ca02ec53c>\u001b[0m in \u001b[0;36m<module>\u001b[1;34m()\u001b[0m\n\u001b[1;32m----> 1\u001b[1;33m \u001b[1;32mfrom\u001b[0m \u001b[0mload_dataset\u001b[0m \u001b[1;32mimport\u001b[0m \u001b[0mload_dataset\u001b[0m\u001b[1;33m\u001b[0m\u001b[0m\n\u001b[0m",
      "\u001b[1;31mModuleNotFoundError\u001b[0m: No module named 'load_dataset'"
     ]
    }
   ],
   "source": [
    "from load_dataset import load_dataset"
   ]
  },
  {
   "cell_type": "code",
   "execution_count": 3,
   "metadata": {},
   "outputs": [],
   "source": [
    "from image_to_descriptors import image_file_to_image_array, load_image_to_descriptors\n",
    "import os\n",
    "\n",
    "def load_dataset(dataset=\"data\\ours\", extension=\".JPG\"):\n",
    "    '''\n",
    "    Loads and returns all images in a dataset\n",
    "    \n",
    "    INPUTS:\n",
    "    \n",
    "        dataset:    Path to the top of the dataset\n",
    "                    string path\n",
    "        \n",
    "        extension:  The extension of images in the database\n",
    "                    All files not ending with the given extension are ignored\n",
    "                    string\n",
    "    \n",
    "    OUPUTS:\n",
    "    \n",
    "        out:        \n",
    "                    \n",
    "    '''\n",
    "    descriptors = []\n",
    "    # find all class folders\n",
    "    for di in os.listdir(dataset):\n",
    "        dire = os.path.join(dataset, di)\n",
    "        if os.path.isdir(dire):\n",
    "            # find individual images\n",
    "            for fi in os.listdir(dire):\n",
    "                if fi.endswith(extension):\n",
    "                    file = os.path.join(dire, fi)\n",
    "                    img = image_file_to_image_array(file)\n",
    "                    try:\n",
    "                        descriptor = load_image_to_descriptors(img, di)\n",
    "                        descriptors.append(descriptor)\n",
    "                    except AssertionError:\n",
    "                        print(\"Bad image: \" + file)\n",
    "                    "
   ]
  },
  {
   "cell_type": "code",
   "execution_count": null,
   "metadata": {},
   "outputs": [],
   "source": []
  }
 ],
 "metadata": {
  "kernelspec": {
   "display_name": "Python [conda env:BWSI-face]",
   "language": "python",
   "name": "conda-env-BWSI-face-py"
  }
 },
 "nbformat": 4,
 "nbformat_minor": 2
}
