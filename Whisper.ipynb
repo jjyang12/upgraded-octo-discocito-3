{
 "cells": [
  {
   "cell_type": "code",
   "execution_count": 10,
   "metadata": {},
   "outputs": [],
   "source": [
    "from load_dataset import load_dataset"
   ]
  },
  {
   "cell_type": "code",
   "execution_count": 5,
   "metadata": {},
   "outputs": [
    {
     "name": "stdout",
     "output_type": "stream",
     "text": [
      "Bad image: data\\ours\\Alexey\\IMG-4933.JPG\n",
      "Bad image: data\\ours\\Alexey\\IMG-4934.JPG\n",
      "Bad image: data\\ours\\Alexey\\IMG-4937.JPG\n",
      "Bad image: data\\ours\\Alexey\\IMG-4939.JPG\n",
      "Bad image: data\\ours\\Alexey\\IMG-4941.JPG\n",
      "Bad image: data\\ours\\Alexey\\IMG-4943.JPG\n",
      "Bad image: data\\ours\\Alexey\\IMG-4944.JPG\n",
      "Bad image: data\\ours\\Alexey\\IMG-4945.JPG\n",
      "Bad image: data\\ours\\Alexey\\IMG-4946.JPG\n",
      "Bad image: data\\ours\\Jenny\\IMG-4921.JPG\n",
      "Bad image: data\\ours\\Sam\\IMG-4947.JPG\n",
      "Bad image: data\\ours\\Sam\\IMG-4948.JPG\n",
      "Bad image: data\\ours\\Sam\\IMG-4949.JPG\n",
      "Bad image: data\\ours\\Sam\\IMG-4950.JPG\n",
      "Bad image: data\\ours\\Sam\\IMG-4951.JPG\n"
     ]
    }
   ],
   "source": [
    "descriptors, truth, names = load_dataset()"
   ]
  },
  {
   "cell_type": "code",
   "execution_count": null,
   "metadata": {},
   "outputs": [],
   "source": []
  }
 ],
 "metadata": {
  "kernelspec": {
   "display_name": "Python [conda env:BWSI-face]",
   "language": "python",
   "name": "conda-env-BWSI-face-py"
  },
  "language_info": {
   "codemirror_mode": {
    "name": "ipython",
    "version": 3
   },
   "file_extension": ".py",
   "mimetype": "text/x-python",
   "name": "python",
   "nbconvert_exporter": "python",
   "pygments_lexer": "ipython3",
   "version": "3.6.5"
  }
 },
 "nbformat": 4,
 "nbformat_minor": 2
}
