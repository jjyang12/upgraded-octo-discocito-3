{
 "cells": [
  {
   "cell_type": "code",
   "execution_count": 3,
   "metadata": {},
   "outputs": [],
   "source": [
    "from image_to_descriptors import image_file_to_image_array, load_image_to_descriptors"
   ]
  },
  {
   "cell_type": "code",
   "execution_count": 22,
   "metadata": {},
   "outputs": [
    {
     "name": "stdout",
     "output_type": "stream",
     "text": [
      "Bad image: data\\ours\\Alexey\\IMG-4933.JPG\n",
      "Bad image: data\\ours\\Alexey\\IMG-4934.JPG\n",
      "Bad image: data\\ours\\Alexey\\IMG-4937.JPG\n",
      "Bad image: data\\ours\\Alexey\\IMG-4939.JPG\n",
      "Bad image: data\\ours\\Alexey\\IMG-4941.JPG\n",
      "Bad image: data\\ours\\Alexey\\IMG-4943.JPG\n",
      "Bad image: data\\ours\\Alexey\\IMG-4944.JPG\n",
      "Bad image: data\\ours\\Alexey\\IMG-4945.JPG\n",
      "Bad image: data\\ours\\Alexey\\IMG-4946.JPG\n",
      "Bad image: data\\ours\\Jenny\\IMG-4921.JPG\n",
      "Bad image: data\\ours\\Sam\\IMG-4947.JPG\n",
      "Bad image: data\\ours\\Sam\\IMG-4948.JPG\n",
      "Bad image: data\\ours\\Sam\\IMG-4949.JPG\n",
      "Bad image: data\\ours\\Sam\\IMG-4950.JPG\n",
      "Bad image: data\\ours\\Sam\\IMG-4951.JPG\n"
     ]
    }
   ],
   "source": [
    "import os\n",
    "\n",
    "dataset = \"data\\ours\"\n",
    "extension = \".JPG\"\n",
    "# find all class folders\n",
    "for di in os.listdir(dataset):\n",
    "    dire = os.path.join(dataset, di)\n",
    "    if os.path.isdir(dire):\n",
    "        # find individual images\n",
    "        for fi in os.listdir(dire):\n",
    "            if fi.endswith(extension):\n",
    "                file = os.path.join(dire, fi)\n",
    "                img = image_file_to_image_array(file)\n",
    "                try:\n",
    "                    load_image_to_descriptors(img, di)\n",
    "                except AssertionError:\n",
    "                    print(\"Bad image: \" + file)"
   ]
  },
  {
   "cell_type": "code",
   "execution_count": null,
   "metadata": {},
   "outputs": [],
   "source": []
  }
 ],
 "metadata": {
  "kernelspec": {
   "display_name": "Python [conda env:BWSI-face]",
   "language": "python",
   "name": "conda-env-BWSI-face-py"
  },
  "language_info": {
   "codemirror_mode": {
    "name": "ipython",
    "version": 3
   },
   "file_extension": ".py",
   "mimetype": "text/x-python",
   "name": "python",
   "nbconvert_exporter": "python",
   "pygments_lexer": "ipython3",
   "version": "3.6.5"
  }
 },
 "nbformat": 4,
 "nbformat_minor": 2
}
